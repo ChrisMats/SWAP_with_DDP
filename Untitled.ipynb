{
 "cells": [
  {
   "cell_type": "code",
   "execution_count": 15,
   "metadata": {},
   "outputs": [],
   "source": [
    "from defaults.bases import *\n",
    "from torchvision.datasets import CIFAR10"
   ]
  },
  {
   "cell_type": "code",
   "execution_count": 38,
   "metadata": {},
   "outputs": [],
   "source": [
    "class Cifar10(BaseSet, CIFAR10):\n",
    "    \n",
    "    n_classes = 10    \n",
    "    img_channels = 3\n",
    "    mean = (0.4914, 0.4822, 0.4465)\n",
    "    std = (0.2023, 0.1994, 0.2010)\n",
    "    \n",
    "    def __init__(self, dataset_params, mode='train'):\n",
    "        \n",
    "        self.mode = mode\n",
    "        self.attr_from_dict(dataset_params) \n",
    "        self.name = self.__class__.__name__\n",
    "        root_dir = os.path.join(self.data_location, self.name)\n",
    "                \n",
    "        super().__init__(root=root_dir, train=True if self.mode != 'test' else False, \n",
    "                         transform=self.get_transforms(), download=self.download_data)   \n",
    "        \n",
    "        # just get the label/ int dictionary\n",
    "        self.labels_to_int = self.class_to_idx\n",
    "        self.int_to_labels = {val:key for key,val in self.labels_to_int.items()}     \n",
    "        \n",
    "        # split train / val\n",
    "        if self.mode != 'test':\n",
    "            val_id_json = os.path.join(root_dir, 'val_ids.json')\n",
    "            train_ids, val_ids = self.get_validation_ids(total_size=len(self.data), \n",
    "                                                         val_size=self.validation_size, \n",
    "                                                         json_path=val_id_json, \n",
    "                                                         dataset_name=self.name)\n",
    "            if self.mode == 'train':\n",
    "                used_ids = train_ids\n",
    "            elif self.mode in ['val', 'eval']:\n",
    "                used_ids = val_ids\n",
    "            else:\n",
    "                raise ValueError(\"\\\"{}\\\" is not a valid mode. Please select one from [train, val, test]\")\n",
    "\n",
    "            self.data = self.data[used_ids]\n",
    "            self.targets = [self.targets[idx] for idx in used_ids]    "
   ]
  },
  {
   "cell_type": "code",
   "execution_count": 39,
   "metadata": {},
   "outputs": [],
   "source": [
    "params = edict(load_json('params.json'))\n",
    "a = Cifar10(params.dataset_params, mode='test')"
   ]
  },
  {
   "cell_type": "code",
   "execution_count": 37,
   "metadata": {},
   "outputs": [],
   "source": [
    "deff = a.targets"
   ]
  },
  {
   "cell_type": "code",
   "execution_count": 40,
   "metadata": {},
   "outputs": [],
   "source": [
    "deff2 = a.targets"
   ]
  },
  {
   "cell_type": "code",
   "execution_count": 41,
   "metadata": {},
   "outputs": [
    {
     "data": {
      "text/plain": [
       "True"
      ]
     },
     "execution_count": 41,
     "metadata": {},
     "output_type": "execute_result"
    }
   ],
   "source": [
    "deff == deff2"
   ]
  },
  {
   "cell_type": "code",
   "execution_count": null,
   "metadata": {},
   "outputs": [],
   "source": []
  }
 ],
 "metadata": {
  "kernelspec": {
   "display_name": "SWAV",
   "language": "python",
   "name": "swav"
  },
  "language_info": {
   "codemirror_mode": {
    "name": "ipython",
    "version": 3
   },
   "file_extension": ".py",
   "mimetype": "text/x-python",
   "name": "python",
   "nbconvert_exporter": "python",
   "pygments_lexer": "ipython3",
   "version": "3.8.6"
  }
 },
 "nbformat": 4,
 "nbformat_minor": 2
}
